{
 "cells": [
  {
   "cell_type": "code",
   "execution_count": 28,
   "metadata": {},
   "outputs": [],
   "source": [
    "import re\n",
    "\n",
    "import numpy as np\n",
    "import pandas as pd\n",
    "from matplotlib import pyplot as plt\n",
    "import seaborn as sns\n",
    "from scipy.stats import ks_2samp, pearsonr, chi2_contingency"
   ]
  },
  {
   "cell_type": "code",
   "execution_count": 2,
   "metadata": {},
   "outputs": [],
   "source": [
    "# Data source: https://www.kaggle.com/c/titanic/data\n",
    "df_train = pd.read_csv(\"data/train.csv\")\n",
    "df_test = pd.read_csv(\"data/test.csv\")"
   ]
  },
  {
   "cell_type": "code",
   "execution_count": 3,
   "metadata": {},
   "outputs": [
    {
     "data": {
      "text/html": [
       "<div>\n",
       "<style scoped>\n",
       "    .dataframe tbody tr th:only-of-type {\n",
       "        vertical-align: middle;\n",
       "    }\n",
       "\n",
       "    .dataframe tbody tr th {\n",
       "        vertical-align: top;\n",
       "    }\n",
       "\n",
       "    .dataframe thead th {\n",
       "        text-align: right;\n",
       "    }\n",
       "</style>\n",
       "<table border=\"1\" class=\"dataframe\">\n",
       "  <thead>\n",
       "    <tr style=\"text-align: right;\">\n",
       "      <th></th>\n",
       "      <th>PassengerId</th>\n",
       "      <th>Survived</th>\n",
       "      <th>Pclass</th>\n",
       "      <th>Name</th>\n",
       "      <th>Sex</th>\n",
       "      <th>Age</th>\n",
       "      <th>SibSp</th>\n",
       "      <th>Parch</th>\n",
       "      <th>Ticket</th>\n",
       "      <th>Fare</th>\n",
       "      <th>Cabin</th>\n",
       "      <th>Embarked</th>\n",
       "    </tr>\n",
       "  </thead>\n",
       "  <tbody>\n",
       "    <tr>\n",
       "      <td>0</td>\n",
       "      <td>1</td>\n",
       "      <td>0</td>\n",
       "      <td>3</td>\n",
       "      <td>Braund, Mr. Owen Harris</td>\n",
       "      <td>male</td>\n",
       "      <td>22.0</td>\n",
       "      <td>1</td>\n",
       "      <td>0</td>\n",
       "      <td>A/5 21171</td>\n",
       "      <td>7.2500</td>\n",
       "      <td>NaN</td>\n",
       "      <td>S</td>\n",
       "    </tr>\n",
       "    <tr>\n",
       "      <td>1</td>\n",
       "      <td>2</td>\n",
       "      <td>1</td>\n",
       "      <td>1</td>\n",
       "      <td>Cumings, Mrs. John Bradley (Florence Briggs Th...</td>\n",
       "      <td>female</td>\n",
       "      <td>38.0</td>\n",
       "      <td>1</td>\n",
       "      <td>0</td>\n",
       "      <td>PC 17599</td>\n",
       "      <td>71.2833</td>\n",
       "      <td>C85</td>\n",
       "      <td>C</td>\n",
       "    </tr>\n",
       "    <tr>\n",
       "      <td>2</td>\n",
       "      <td>3</td>\n",
       "      <td>1</td>\n",
       "      <td>3</td>\n",
       "      <td>Heikkinen, Miss. Laina</td>\n",
       "      <td>female</td>\n",
       "      <td>26.0</td>\n",
       "      <td>0</td>\n",
       "      <td>0</td>\n",
       "      <td>STON/O2. 3101282</td>\n",
       "      <td>7.9250</td>\n",
       "      <td>NaN</td>\n",
       "      <td>S</td>\n",
       "    </tr>\n",
       "    <tr>\n",
       "      <td>3</td>\n",
       "      <td>4</td>\n",
       "      <td>1</td>\n",
       "      <td>1</td>\n",
       "      <td>Futrelle, Mrs. Jacques Heath (Lily May Peel)</td>\n",
       "      <td>female</td>\n",
       "      <td>35.0</td>\n",
       "      <td>1</td>\n",
       "      <td>0</td>\n",
       "      <td>113803</td>\n",
       "      <td>53.1000</td>\n",
       "      <td>C123</td>\n",
       "      <td>S</td>\n",
       "    </tr>\n",
       "    <tr>\n",
       "      <td>4</td>\n",
       "      <td>5</td>\n",
       "      <td>0</td>\n",
       "      <td>3</td>\n",
       "      <td>Allen, Mr. William Henry</td>\n",
       "      <td>male</td>\n",
       "      <td>35.0</td>\n",
       "      <td>0</td>\n",
       "      <td>0</td>\n",
       "      <td>373450</td>\n",
       "      <td>8.0500</td>\n",
       "      <td>NaN</td>\n",
       "      <td>S</td>\n",
       "    </tr>\n",
       "    <tr>\n",
       "      <td>5</td>\n",
       "      <td>6</td>\n",
       "      <td>0</td>\n",
       "      <td>3</td>\n",
       "      <td>Moran, Mr. James</td>\n",
       "      <td>male</td>\n",
       "      <td>NaN</td>\n",
       "      <td>0</td>\n",
       "      <td>0</td>\n",
       "      <td>330877</td>\n",
       "      <td>8.4583</td>\n",
       "      <td>NaN</td>\n",
       "      <td>Q</td>\n",
       "    </tr>\n",
       "    <tr>\n",
       "      <td>6</td>\n",
       "      <td>7</td>\n",
       "      <td>0</td>\n",
       "      <td>1</td>\n",
       "      <td>McCarthy, Mr. Timothy J</td>\n",
       "      <td>male</td>\n",
       "      <td>54.0</td>\n",
       "      <td>0</td>\n",
       "      <td>0</td>\n",
       "      <td>17463</td>\n",
       "      <td>51.8625</td>\n",
       "      <td>E46</td>\n",
       "      <td>S</td>\n",
       "    </tr>\n",
       "    <tr>\n",
       "      <td>7</td>\n",
       "      <td>8</td>\n",
       "      <td>0</td>\n",
       "      <td>3</td>\n",
       "      <td>Palsson, Master. Gosta Leonard</td>\n",
       "      <td>male</td>\n",
       "      <td>2.0</td>\n",
       "      <td>3</td>\n",
       "      <td>1</td>\n",
       "      <td>349909</td>\n",
       "      <td>21.0750</td>\n",
       "      <td>NaN</td>\n",
       "      <td>S</td>\n",
       "    </tr>\n",
       "    <tr>\n",
       "      <td>8</td>\n",
       "      <td>9</td>\n",
       "      <td>1</td>\n",
       "      <td>3</td>\n",
       "      <td>Johnson, Mrs. Oscar W (Elisabeth Vilhelmina Berg)</td>\n",
       "      <td>female</td>\n",
       "      <td>27.0</td>\n",
       "      <td>0</td>\n",
       "      <td>2</td>\n",
       "      <td>347742</td>\n",
       "      <td>11.1333</td>\n",
       "      <td>NaN</td>\n",
       "      <td>S</td>\n",
       "    </tr>\n",
       "    <tr>\n",
       "      <td>9</td>\n",
       "      <td>10</td>\n",
       "      <td>1</td>\n",
       "      <td>2</td>\n",
       "      <td>Nasser, Mrs. Nicholas (Adele Achem)</td>\n",
       "      <td>female</td>\n",
       "      <td>14.0</td>\n",
       "      <td>1</td>\n",
       "      <td>0</td>\n",
       "      <td>237736</td>\n",
       "      <td>30.0708</td>\n",
       "      <td>NaN</td>\n",
       "      <td>C</td>\n",
       "    </tr>\n",
       "  </tbody>\n",
       "</table>\n",
       "</div>"
      ],
      "text/plain": [
       "   PassengerId  Survived  Pclass  \\\n",
       "0            1         0       3   \n",
       "1            2         1       1   \n",
       "2            3         1       3   \n",
       "3            4         1       1   \n",
       "4            5         0       3   \n",
       "5            6         0       3   \n",
       "6            7         0       1   \n",
       "7            8         0       3   \n",
       "8            9         1       3   \n",
       "9           10         1       2   \n",
       "\n",
       "                                                Name     Sex   Age  SibSp  \\\n",
       "0                            Braund, Mr. Owen Harris    male  22.0      1   \n",
       "1  Cumings, Mrs. John Bradley (Florence Briggs Th...  female  38.0      1   \n",
       "2                             Heikkinen, Miss. Laina  female  26.0      0   \n",
       "3       Futrelle, Mrs. Jacques Heath (Lily May Peel)  female  35.0      1   \n",
       "4                           Allen, Mr. William Henry    male  35.0      0   \n",
       "5                                   Moran, Mr. James    male   NaN      0   \n",
       "6                            McCarthy, Mr. Timothy J    male  54.0      0   \n",
       "7                     Palsson, Master. Gosta Leonard    male   2.0      3   \n",
       "8  Johnson, Mrs. Oscar W (Elisabeth Vilhelmina Berg)  female  27.0      0   \n",
       "9                Nasser, Mrs. Nicholas (Adele Achem)  female  14.0      1   \n",
       "\n",
       "   Parch            Ticket     Fare Cabin Embarked  \n",
       "0      0         A/5 21171   7.2500   NaN        S  \n",
       "1      0          PC 17599  71.2833   C85        C  \n",
       "2      0  STON/O2. 3101282   7.9250   NaN        S  \n",
       "3      0            113803  53.1000  C123        S  \n",
       "4      0            373450   8.0500   NaN        S  \n",
       "5      0            330877   8.4583   NaN        Q  \n",
       "6      0             17463  51.8625   E46        S  \n",
       "7      1            349909  21.0750   NaN        S  \n",
       "8      2            347742  11.1333   NaN        S  \n",
       "9      0            237736  30.0708   NaN        C  "
      ]
     },
     "execution_count": 3,
     "metadata": {},
     "output_type": "execute_result"
    }
   ],
   "source": [
    "df_train.head(10)"
   ]
  },
  {
   "cell_type": "code",
   "execution_count": 4,
   "metadata": {},
   "outputs": [
    {
     "data": {
      "text/html": [
       "<div>\n",
       "<style scoped>\n",
       "    .dataframe tbody tr th:only-of-type {\n",
       "        vertical-align: middle;\n",
       "    }\n",
       "\n",
       "    .dataframe tbody tr th {\n",
       "        vertical-align: top;\n",
       "    }\n",
       "\n",
       "    .dataframe thead th {\n",
       "        text-align: right;\n",
       "    }\n",
       "</style>\n",
       "<table border=\"1\" class=\"dataframe\">\n",
       "  <thead>\n",
       "    <tr style=\"text-align: right;\">\n",
       "      <th></th>\n",
       "      <th>PassengerId</th>\n",
       "      <th>Pclass</th>\n",
       "      <th>Name</th>\n",
       "      <th>Sex</th>\n",
       "      <th>Age</th>\n",
       "      <th>SibSp</th>\n",
       "      <th>Parch</th>\n",
       "      <th>Ticket</th>\n",
       "      <th>Fare</th>\n",
       "      <th>Cabin</th>\n",
       "      <th>Embarked</th>\n",
       "    </tr>\n",
       "  </thead>\n",
       "  <tbody>\n",
       "    <tr>\n",
       "      <td>0</td>\n",
       "      <td>892</td>\n",
       "      <td>3</td>\n",
       "      <td>Kelly, Mr. James</td>\n",
       "      <td>male</td>\n",
       "      <td>34.5</td>\n",
       "      <td>0</td>\n",
       "      <td>0</td>\n",
       "      <td>330911</td>\n",
       "      <td>7.8292</td>\n",
       "      <td>NaN</td>\n",
       "      <td>Q</td>\n",
       "    </tr>\n",
       "    <tr>\n",
       "      <td>1</td>\n",
       "      <td>893</td>\n",
       "      <td>3</td>\n",
       "      <td>Wilkes, Mrs. James (Ellen Needs)</td>\n",
       "      <td>female</td>\n",
       "      <td>47.0</td>\n",
       "      <td>1</td>\n",
       "      <td>0</td>\n",
       "      <td>363272</td>\n",
       "      <td>7.0000</td>\n",
       "      <td>NaN</td>\n",
       "      <td>S</td>\n",
       "    </tr>\n",
       "    <tr>\n",
       "      <td>2</td>\n",
       "      <td>894</td>\n",
       "      <td>2</td>\n",
       "      <td>Myles, Mr. Thomas Francis</td>\n",
       "      <td>male</td>\n",
       "      <td>62.0</td>\n",
       "      <td>0</td>\n",
       "      <td>0</td>\n",
       "      <td>240276</td>\n",
       "      <td>9.6875</td>\n",
       "      <td>NaN</td>\n",
       "      <td>Q</td>\n",
       "    </tr>\n",
       "    <tr>\n",
       "      <td>3</td>\n",
       "      <td>895</td>\n",
       "      <td>3</td>\n",
       "      <td>Wirz, Mr. Albert</td>\n",
       "      <td>male</td>\n",
       "      <td>27.0</td>\n",
       "      <td>0</td>\n",
       "      <td>0</td>\n",
       "      <td>315154</td>\n",
       "      <td>8.6625</td>\n",
       "      <td>NaN</td>\n",
       "      <td>S</td>\n",
       "    </tr>\n",
       "    <tr>\n",
       "      <td>4</td>\n",
       "      <td>896</td>\n",
       "      <td>3</td>\n",
       "      <td>Hirvonen, Mrs. Alexander (Helga E Lindqvist)</td>\n",
       "      <td>female</td>\n",
       "      <td>22.0</td>\n",
       "      <td>1</td>\n",
       "      <td>1</td>\n",
       "      <td>3101298</td>\n",
       "      <td>12.2875</td>\n",
       "      <td>NaN</td>\n",
       "      <td>S</td>\n",
       "    </tr>\n",
       "    <tr>\n",
       "      <td>5</td>\n",
       "      <td>897</td>\n",
       "      <td>3</td>\n",
       "      <td>Svensson, Mr. Johan Cervin</td>\n",
       "      <td>male</td>\n",
       "      <td>14.0</td>\n",
       "      <td>0</td>\n",
       "      <td>0</td>\n",
       "      <td>7538</td>\n",
       "      <td>9.2250</td>\n",
       "      <td>NaN</td>\n",
       "      <td>S</td>\n",
       "    </tr>\n",
       "    <tr>\n",
       "      <td>6</td>\n",
       "      <td>898</td>\n",
       "      <td>3</td>\n",
       "      <td>Connolly, Miss. Kate</td>\n",
       "      <td>female</td>\n",
       "      <td>30.0</td>\n",
       "      <td>0</td>\n",
       "      <td>0</td>\n",
       "      <td>330972</td>\n",
       "      <td>7.6292</td>\n",
       "      <td>NaN</td>\n",
       "      <td>Q</td>\n",
       "    </tr>\n",
       "    <tr>\n",
       "      <td>7</td>\n",
       "      <td>899</td>\n",
       "      <td>2</td>\n",
       "      <td>Caldwell, Mr. Albert Francis</td>\n",
       "      <td>male</td>\n",
       "      <td>26.0</td>\n",
       "      <td>1</td>\n",
       "      <td>1</td>\n",
       "      <td>248738</td>\n",
       "      <td>29.0000</td>\n",
       "      <td>NaN</td>\n",
       "      <td>S</td>\n",
       "    </tr>\n",
       "    <tr>\n",
       "      <td>8</td>\n",
       "      <td>900</td>\n",
       "      <td>3</td>\n",
       "      <td>Abrahim, Mrs. Joseph (Sophie Halaut Easu)</td>\n",
       "      <td>female</td>\n",
       "      <td>18.0</td>\n",
       "      <td>0</td>\n",
       "      <td>0</td>\n",
       "      <td>2657</td>\n",
       "      <td>7.2292</td>\n",
       "      <td>NaN</td>\n",
       "      <td>C</td>\n",
       "    </tr>\n",
       "    <tr>\n",
       "      <td>9</td>\n",
       "      <td>901</td>\n",
       "      <td>3</td>\n",
       "      <td>Davies, Mr. John Samuel</td>\n",
       "      <td>male</td>\n",
       "      <td>21.0</td>\n",
       "      <td>2</td>\n",
       "      <td>0</td>\n",
       "      <td>A/4 48871</td>\n",
       "      <td>24.1500</td>\n",
       "      <td>NaN</td>\n",
       "      <td>S</td>\n",
       "    </tr>\n",
       "  </tbody>\n",
       "</table>\n",
       "</div>"
      ],
      "text/plain": [
       "   PassengerId  Pclass                                          Name     Sex  \\\n",
       "0          892       3                              Kelly, Mr. James    male   \n",
       "1          893       3              Wilkes, Mrs. James (Ellen Needs)  female   \n",
       "2          894       2                     Myles, Mr. Thomas Francis    male   \n",
       "3          895       3                              Wirz, Mr. Albert    male   \n",
       "4          896       3  Hirvonen, Mrs. Alexander (Helga E Lindqvist)  female   \n",
       "5          897       3                    Svensson, Mr. Johan Cervin    male   \n",
       "6          898       3                          Connolly, Miss. Kate  female   \n",
       "7          899       2                  Caldwell, Mr. Albert Francis    male   \n",
       "8          900       3     Abrahim, Mrs. Joseph (Sophie Halaut Easu)  female   \n",
       "9          901       3                       Davies, Mr. John Samuel    male   \n",
       "\n",
       "    Age  SibSp  Parch     Ticket     Fare Cabin Embarked  \n",
       "0  34.5      0      0     330911   7.8292   NaN        Q  \n",
       "1  47.0      1      0     363272   7.0000   NaN        S  \n",
       "2  62.0      0      0     240276   9.6875   NaN        Q  \n",
       "3  27.0      0      0     315154   8.6625   NaN        S  \n",
       "4  22.0      1      1    3101298  12.2875   NaN        S  \n",
       "5  14.0      0      0       7538   9.2250   NaN        S  \n",
       "6  30.0      0      0     330972   7.6292   NaN        Q  \n",
       "7  26.0      1      1     248738  29.0000   NaN        S  \n",
       "8  18.0      0      0       2657   7.2292   NaN        C  \n",
       "9  21.0      2      0  A/4 48871  24.1500   NaN        S  "
      ]
     },
     "execution_count": 4,
     "metadata": {},
     "output_type": "execute_result"
    }
   ],
   "source": [
    "df_test.head(10)"
   ]
  },
  {
   "cell_type": "markdown",
   "metadata": {},
   "source": [
    "## Define Data Types\n",
    "\n",
    "Target:\n",
    "* Survived\n",
    "\n",
    "Categorical:\n",
    "* Pclass: Though it is an ordinal variable, I will treat it as categorical, because there is only 3 levels, and the dependency is probably non-liner\n",
    "* Sex\n",
    "* Embarked\n",
    "\n",
    "Numerical:\n",
    "* Age\n",
    "* SibSp\n",
    "* Parch\n",
    "* Fare\n",
    "\n",
    "Text:\n",
    "* Name: Some features can be created from it\n",
    "* Cabin: Some features can be created from it\n",
    "\n",
    "Unused:\n",
    "* PassengerId: Obviously ID's are not useful for classification\n",
    "* Ticket: For the first sight I don't see any useful info in it"
   ]
  },
  {
   "cell_type": "code",
   "execution_count": 6,
   "metadata": {},
   "outputs": [],
   "source": [
    "label_name = \"Survived\"\n",
    "\n",
    "categorical_feature_names = [\"Pclass\", \"Sex\", \"Embarked\"]\n",
    "numerical_feature_names = [\"Age\", \"SibSp\", \"Parch\", \"Fare\"]\n",
    "text_feature_names = [\"Name\", \"Cabin\"]"
   ]
  },
  {
   "cell_type": "markdown",
   "metadata": {},
   "source": [
    "# Exploratory Data Analysis / Feature Engineering"
   ]
  },
  {
   "cell_type": "markdown",
   "metadata": {},
   "source": [
    "## Women and children first\n",
    "\n",
    "For the next section it worths understanding the quote \"Women and children first\".\n",
    "\n",
    "The phrase was popularised by its usage on the RMS Titanic. The Second Officer suggested to Captain Smith, \"Hadn't we better get the women and children into the boats, sir?\", to which the captain responded: \"put the women and children in and lower away\". The First (Officer Murdoch) and Second (Officer Lightoller) officers interpreted the evacuation order differently; Murdoch took it to mean women and children first, while Lightoller took it to mean women and children only. Second Officer Lightoller lowered lifeboats with empty seats if there were no women and children waiting to board, while First Officer Murdoch allowed a limited number of men to board if all the nearby women and children had embarked.\n",
    "\n",
    "Source: [Wikipedia](https://en.wikipedia.org/wiki/Women_and_children_first)"
   ]
  },
  {
   "cell_type": "markdown",
   "metadata": {},
   "source": [
    "## Helper Functions"
   ]
  },
  {
   "cell_type": "code",
   "execution_count": 32,
   "metadata": {},
   "outputs": [],
   "source": [
    "def explore_binary(series):\n",
    "    print(\"Ratio: {}\".format(series.mean()))\n",
    "\n",
    "    \n",
    "def dependency_categorical(feature, label, binned=False, sort_index=False):\n",
    "    \"\"\" Makes a crosstabulation between categorical feature and label \"\"\"\n",
    "    # Calculate crosstab and counts\n",
    "    df_crosstab = pd.crosstab(feature, label)\n",
    "    counts = df_crosstab.sum(axis=1)\n",
    "    df_crosstab_normed = df_crosstab.divide(counts, axis=0)\n",
    "    df_crosstab_normed[\"Count\"] = counts\n",
    "    # Sorting\n",
    "    if binned:\n",
    "        df_crosstab_normed[\"Bin_left\"] = [x.left for x in df_crosstab_normed.index.values]\n",
    "        df_crosstab_normed = df_crosstab_normed.sort_values(\"Bin_left\")\n",
    "        df_crosstab_normed = df_crosstab_normed.drop(\"Bin_left\", axis=1)\n",
    "    else:\n",
    "        if sort_index:\n",
    "            df_crosstab_normed = df_crosstab_normed.sort_index()\n",
    "        else:\n",
    "            df_crosstab_normed = df_crosstab_normed.sort_values(\"Count\", ascending=False)\n",
    "    # Printing\n",
    "    print(df_crosstab_normed)\n",
    "    # Chi-square test of independence\n",
    "    frequencies = np.array([df_crosstab[0].values, df_crosstab[1].values])\n",
    "    chi2, p_val, dof, expected = chi2_contingency(frequencies)\n",
    "    print(\"\")\n",
    "    print(\"Chi2 value: {} p value: {}\".format(chi2, p_val))\n",
    "\n",
    "\n",
    "def dependency_numerical_small(df, feature_name):\n",
    "    df_groupped = df.groupby(feature_name).agg({\n",
    "        label_name: {\"Sum\": \"sum\", \"Count\": \"count\"},\n",
    "    })\n",
    "    df_groupped[\"Count\"] = df_groupped[(label_name, \"Count\")]\n",
    "    df_groupped[\"Survival_ratio\"] = df_groupped[(label_name, \"Sum\")] / df_groupped[(label_name, \"Count\")]\n",
    "    df_groupped = df_groupped.drop(label_name, axis=1)\n",
    "    print(df_groupped)\n",
    "\n",
    "    \n",
    "def dependency_numerical(df, feature_name, label_name):\n",
    "    df_pairplot = df[[feature_name, label_name]].dropna()\n",
    "    feature_negative = df_pairplot[df_pairplot[label_name] == 0][feature_name]\n",
    "    feature_positive = df_pairplot[df_pairplot[label_name] == 1][feature_name]\n",
    "    # Distribution plots\n",
    "    sns.distplot(feature_negative, kde=True, label=\"Perished\")\n",
    "    sns.distplot(feature_positive, kde=True, label=\"Survived\")\n",
    "    plt.legend()\n",
    "    plt.show()\n",
    "    # Describe\n",
    "    print(\"Describe {}\".format(feature_name))\n",
    "    print(df[feature_name].describe(percentiles=np.linspace(0.1, 0.9, 9)))\n",
    "    # Kolmogorov–Smirnov test\n",
    "    d_val, p_val = ks_2samp(feature_negative, feature_positive)\n",
    "    print(\"\")\n",
    "    print(\"Two sample Kolmogorov–Smirnov test for {}\".format(feature_name))\n",
    "    print(\"D value: {} p value: {}\".format(d_val, p_val))\n",
    "\n",
    "# This column will help count rows after groupby\n",
    "df_train[\"Count\"] = 1"
   ]
  },
  {
   "cell_type": "markdown",
   "metadata": {},
   "source": [
    "## Label"
   ]
  },
  {
   "cell_type": "code",
   "execution_count": 8,
   "metadata": {},
   "outputs": [
    {
     "name": "stdout",
     "output_type": "stream",
     "text": [
      "Survived\n",
      "Ratio: 0.3838383838383838\n"
     ]
    }
   ],
   "source": [
    "print(\"Survived\")\n",
    "explore_binary(df_train[label_name])"
   ]
  },
  {
   "cell_type": "markdown",
   "metadata": {},
   "source": [
    "There is no huge imbalance in the labels."
   ]
  },
  {
   "cell_type": "markdown",
   "metadata": {},
   "source": [
    "## Missing Values"
   ]
  },
  {
   "cell_type": "code",
   "execution_count": 9,
   "metadata": {},
   "outputs": [
    {
     "name": "stdout",
     "output_type": "stream",
     "text": [
      "Ratio of missing values of columns:\n",
      "PassengerId    0.000000\n",
      "Survived       0.000000\n",
      "Pclass         0.000000\n",
      "Name           0.000000\n",
      "Sex            0.000000\n",
      "Age            0.198653\n",
      "SibSp          0.000000\n",
      "Parch          0.000000\n",
      "Ticket         0.000000\n",
      "Fare           0.000000\n",
      "Cabin          0.771044\n",
      "Embarked       0.002245\n",
      "Count          0.000000\n",
      "dtype: float64\n"
     ]
    },
    {
     "data": {
      "image/png": "[encoded data removed]",
      "text/plain": [
       "<Figure size 432x288 with 1 Axes>"
      ]
     },
     "metadata": {
      "needs_background": "light"
     },
     "output_type": "display_data"
    },
    {
     "name": "stdout",
     "output_type": "stream",
     "text": [
      "Ratio of missing values of columns:\n",
      "PassengerId    0.000000\n",
      "Pclass         0.000000\n",
      "Name           0.000000\n",
      "Sex            0.000000\n",
      "Age            0.205742\n",
      "SibSp          0.000000\n",
      "Parch          0.000000\n",
      "Ticket         0.000000\n",
      "Fare           0.002392\n",
      "Cabin          0.782297\n",
      "Embarked       0.000000\n",
      "dtype: float64\n"
     ]
    },
    {
     "data": {
      "image/png": "[encoded data removed]",
      "text/plain": [
       "<Figure size 432x288 with 1 Axes>"
      ]
     },
     "metadata": {
      "needs_background": "light"
     },
     "output_type": "display_data"
    }
   ],
   "source": [
    "def inspect_missing(df):\n",
    "    dataset_size = df.shape[0]\n",
    "    print(\"Ratio of missing values of columns:\")\n",
    "    print(df.isnull().sum() / dataset_size)\n",
    "    sns.heatmap(df.isnull(), cbar=False)\n",
    "    plt.show()\n",
    "\n",
    "inspect_missing(df_train)\n",
    "\n",
    "inspect_missing(df_test)"
   ]
  },
  {
   "cell_type": "markdown",
   "metadata": {},
   "source": [
    "* Age has a considerable amount of missing values (20% in training set)\n",
    "* Cabin has a lot of missing values (77% in training set)\n",
    "* Embarked has a small amount of missing values (0.22%) in training set\n",
    "* Fare has a small amount of missing values (0.24%) in test set\n",
    "* The distribution of missing values is even\n",
    "\n",
    "We can add new features to signal if cabin or age is missing, maybe this is correlating with the target variable"
   ]
  },
  {
   "cell_type": "code",
   "execution_count": 13,
   "metadata": {},
   "outputs": [],
   "source": [
    "df_train[\"CabinMissing\"] = df_train[\"Cabin\"].isna()\n",
    "df_train[\"AgeMissing\"] = df_train[\"Age\"].isna()"
   ]
  },
  {
   "cell_type": "code",
   "execution_count": 33,
   "metadata": {},
   "outputs": [
    {
     "name": "stdout",
     "output_type": "stream",
     "text": [
      "Survived             0         1  Count\n",
      "CabinMissing                           \n",
      "True          0.700146  0.299854    687\n",
      "False         0.333333  0.666667    204\n",
      "\n",
      "Chi2 value: 87.94148561238097 p value: 6.7419704360811776e-21\n"
     ]
    }
   ],
   "source": [
    "dependency_categorical(df_train[\"CabinMissing\"], df_train[label_name])"
   ]
  },
  {
   "cell_type": "code",
   "execution_count": 34,
   "metadata": {},
   "outputs": [
    {
     "name": "stdout",
     "output_type": "stream",
     "text": [
      "Survived           0         1  Count\n",
      "AgeMissing                           \n",
      "False       0.593838  0.406162    714\n",
      "True        0.706215  0.293785    177\n",
      "\n",
      "Chi2 value: 7.10597508442256 p value: 0.007682742096212262\n"
     ]
    }
   ],
   "source": [
    "dependency_categorical(df_train[\"AgeMissing\"], df_train[label_name])"
   ]
  },
  {
   "cell_type": "markdown",
   "metadata": {},
   "source": [
    "The missing values of `Cabin` and `Age` explain a lot of variance."
   ]
  },
  {
   "cell_type": "markdown",
   "metadata": {},
   "source": [
    "## Pclass"
   ]
  },
  {
   "cell_type": "code",
   "execution_count": 35,
   "metadata": {},
   "outputs": [
    {
     "name": "stdout",
     "output_type": "stream",
     "text": [
      "Survived         0         1  Count\n",
      "Pclass                             \n",
      "3         0.757637  0.242363    491\n",
      "1         0.370370  0.629630    216\n",
      "2         0.527174  0.472826    184\n",
      "\n",
      "Chi2 value: 102.88898875696056 p value: 4.549251711298793e-23\n"
     ]
    }
   ],
   "source": [
    "dependency_categorical(df_train[\"Pclass\"], df_train[label_name])"
   ]
  },
  {
   "cell_type": "markdown",
   "metadata": {},
   "source": [
    "* The third class tickets are in majority\n",
    "* The higher the class number, the lower the survival ratio, as expected"
   ]
  },
  {
   "cell_type": "markdown",
   "metadata": {},
   "source": [
    "## Sex"
   ]
  },
  {
   "cell_type": "code",
   "execution_count": 37,
   "metadata": {},
   "outputs": [
    {
     "name": "stdout",
     "output_type": "stream",
     "text": [
      "Survived         0         1  Count\n",
      "Sex                                \n",
      "male      0.811092  0.188908    577\n",
      "female    0.257962  0.742038    314\n",
      "\n",
      "Chi2 value: 260.71702016732104 p value: 1.1973570627755645e-58\n"
     ]
    }
   ],
   "source": [
    "dependency_categorical(df_train[\"Sex\"], df_train[label_name])"
   ]
  },
  {
   "cell_type": "markdown",
   "metadata": {},
   "source": [
    "* The majority of pessengers are males\n",
    "* The survival ratio of females (74%) is significantly higher than of males (19%)"
   ]
  },
  {
   "cell_type": "markdown",
   "metadata": {},
   "source": [
    "## Embarked"
   ]
  },
  {
   "cell_type": "code",
   "execution_count": 38,
   "metadata": {},
   "outputs": [
    {
     "name": "stdout",
     "output_type": "stream",
     "text": [
      "Survived         0         1  Count\n",
      "Embarked                           \n",
      "S         0.663043  0.336957    644\n",
      "C         0.446429  0.553571    168\n",
      "Q         0.610390  0.389610     77\n",
      "\n",
      "Chi2 value: 26.48914983923762 p value: 1.769922284120912e-06\n"
     ]
    }
   ],
   "source": [
    "dependency_categorical(df_train[\"Embarked\"], df_train[label_name])"
   ]
  },
  {
   "cell_type": "markdown",
   "metadata": {},
   "source": [
    "Passengers were boarding the Titanic from 3 different cities in Europe, before heading off to New York: Southampton (England) encoded as `S`, Cherbourg (France) encoded as `C` and Queenstown (Ireland) encoded as `Q`.\n",
    "\n",
    "* Most of the passengers embarked in Southampton\n",
    "* The port of embarkation explains some variance\n",
    "    * Does the port really matter?\n",
    "    * Does this feature only correlate to other features, that cause this effect?\n",
    "    * Does the port contain some information that can't be explained by the other features?\n",
    "    * We will have to answer these questions later"
   ]
  },
  {
   "cell_type": "markdown",
   "metadata": {},
   "source": [
    "## Age"
   ]
  },
  {
   "cell_type": "code",
   "execution_count": 39,
   "metadata": {},
   "outputs": [
    {
     "data": {
      "image/png": "[encoded data removed]",
      "text/plain": [
       "<Figure size 432x288 with 1 Axes>"
      ]
     },
     "metadata": {
      "needs_background": "light"
     },
     "output_type": "display_data"
    },
    {
     "name": "stdout",
     "output_type": "stream",
     "text": [
      "Describe Age\n",
      "count    714.000000\n",
      "mean      29.699118\n",
      "std       14.526497\n",
      "min        0.420000\n",
      "10%       14.000000\n",
      "20%       19.000000\n",
      "30%       22.000000\n",
      "40%       25.000000\n",
      "50%       28.000000\n",
      "60%       31.800000\n",
      "70%       36.000000\n",
      "80%       41.000000\n",
      "90%       50.000000\n",
      "max       80.000000\n",
      "Name: Age, dtype: float64\n",
      "\n",
      "Two sample Kolmogorov–Smirnov test for Age\n",
      "D value: 0.08877683799609629 p value: 0.12277292350653957\n"
     ]
    }
   ],
   "source": [
    "dependency_numerical(df_train, \"Age\", label_name)"
   ]
  },
  {
   "cell_type": "markdown",
   "metadata": {},
   "source": [
    "Let's bin age and investigate what is the survival rate in each bin."
   ]
  },
  {
   "cell_type": "code",
   "execution_count": 40,
   "metadata": {},
   "outputs": [
    {
     "name": "stdout",
     "output_type": "stream",
     "text": [
      "Survived                 0         1  Count\n",
      "AgeBinnedExplore                           \n",
      "(0.34, 4.399]     0.325000  0.675000     40\n",
      "(4.399, 8.378]    0.357143  0.642857     14\n",
      "(8.378, 12.357]   0.733333  0.266667     15\n",
      "(12.357, 16.336]  0.516129  0.483871     31\n",
      "(16.336, 20.315]  0.658228  0.341772     79\n",
      "(20.315, 24.294]  0.632653  0.367347     98\n",
      "(24.294, 28.273]  0.647059  0.352941     85\n",
      "(28.273, 32.252]  0.583333  0.416667     84\n",
      "(32.252, 36.231]  0.520548  0.479452     73\n",
      "(36.231, 40.21]   0.622222  0.377778     45\n",
      "(40.21, 44.189]   0.657143  0.342857     35\n",
      "(44.189, 48.168]  0.657143  0.342857     35\n",
      "(48.168, 52.147]  0.517241  0.482759     29\n",
      "(52.147, 56.126]  0.562500  0.437500     16\n",
      "(56.126, 60.105]  0.615385  0.384615     13\n",
      "(60.105, 64.084]  0.636364  0.363636     11\n",
      "(64.084, 68.063]  1.000000  0.000000      4\n",
      "(68.063, 72.042]  1.000000  0.000000      5\n",
      "(72.042, 76.021]  1.000000  0.000000      1\n",
      "(76.021, 80.0]    0.000000  1.000000      1\n",
      "\n",
      "Chi2 value: 32.34980578915267 p value: 0.028533621872558496\n"
     ]
    }
   ],
   "source": [
    "df_train[\"AgeBinnedExplore\"] = pd.cut(df_train[\"Age\"], 20)\n",
    "dependency_categorical(df_train[\"AgeBinnedExplore\"], df_train[label_name], binned=True)"
   ]
  },
  {
   "cell_type": "markdown",
   "metadata": {},
   "source": [
    "* Age explains some variance\n",
    "* Children (from 0 to 16 years old) have higher "
   ]
  },
  {
   "cell_type": "code",
   "execution_count": 41,
   "metadata": {},
   "outputs": [
    {
     "name": "stdout",
     "output_type": "stream",
     "text": [
      "[0.83, 0.92, 0.75, 0.75, 0.67, 0.42, 0.83]\n"
     ]
    }
   ],
   "source": [
    "print(df_train[df_train[\"Age\"] < 1][\"Age\"].tolist())"
   ]
  },
  {
   "cell_type": "markdown",
   "metadata": {},
   "source": [
    "Age has a few fraction numbers in it, like 0.42, 0.67. Maybe they are mistypes of and actually mean 42 and 67, or they are indeed infants with age below 1 years. Since there is no way of knowing and there is only a low amount of shuch passengers, I will just leave them as they are."
   ]
  },
  {
   "cell_type": "markdown",
   "metadata": {},
   "source": [
    "## SibSp"
   ]
  },
  {
   "cell_type": "code",
   "execution_count": 42,
   "metadata": {},
   "outputs": [
    {
     "name": "stdout",
     "output_type": "stream",
     "text": [
      "Survived         0         1  Count\n",
      "SibSp                              \n",
      "0         0.654605  0.345395    608\n",
      "1         0.464115  0.535885    209\n",
      "2         0.535714  0.464286     28\n",
      "3         0.750000  0.250000     16\n",
      "4         0.833333  0.166667     18\n",
      "5         1.000000  0.000000      5\n",
      "8         1.000000  0.000000      7\n",
      "\n",
      "Chi2 value: 37.27179291520431 p value: 1.5585810465902116e-06\n"
     ]
    }
   ],
   "source": [
    "dependency_categorical(df_train[\"SibSp\"], df_train[label_name], sort_index=True)"
   ]
  },
  {
   "cell_type": "markdown",
   "metadata": {},
   "source": [
    "## Parch"
   ]
  },
  {
   "cell_type": "code",
   "execution_count": 43,
   "metadata": {},
   "outputs": [
    {
     "name": "stdout",
     "output_type": "stream",
     "text": [
      "Survived         0         1  Count\n",
      "Parch                              \n",
      "0         0.656342  0.343658    678\n",
      "1         0.449153  0.550847    118\n",
      "2         0.500000  0.500000     80\n",
      "3         0.400000  0.600000      5\n",
      "4         1.000000  0.000000      4\n",
      "5         0.800000  0.200000      5\n",
      "6         1.000000  0.000000      1\n",
      "\n",
      "Chi2 value: 27.925784060236168 p value: 9.703526421039997e-05\n"
     ]
    }
   ],
   "source": [
    "dependency_categorical(df_train[\"Parch\"], df_train[label_name], sort_index=True)"
   ]
  },
  {
   "cell_type": "markdown",
   "metadata": {},
   "source": [
    "## Family size"
   ]
  },
  {
   "cell_type": "markdown",
   "metadata": {},
   "source": [
    "A lot of Kagglers hypothise that the size of the family on board (sum of SibSp (siblings, spouses) and Parch (parents, children) is a better predictior than the two features separatly. It can also ease iterpretibility, so I add this feature."
   ]
  },
  {
   "cell_type": "code",
   "execution_count": 44,
   "metadata": {},
   "outputs": [
    {
     "name": "stdout",
     "output_type": "stream",
     "text": [
      "Survived           0         1  Count\n",
      "FamilySize                           \n",
      "0           0.696462  0.303538    537\n",
      "1           0.447205  0.552795    161\n",
      "2           0.421569  0.578431    102\n",
      "3           0.275862  0.724138     29\n",
      "4           0.800000  0.200000     15\n",
      "5           0.863636  0.136364     22\n",
      "6           0.666667  0.333333     12\n",
      "7           1.000000  0.000000      6\n",
      "10          1.000000  0.000000      7\n",
      "\n",
      "Chi2 value: 80.67231343783078 p value: 3.579668975443533e-14\n"
     ]
    }
   ],
   "source": [
    "df_train[\"FamilySize\"] = df_train[\"SibSp\"] + df_train[\"Parch\"]\n",
    "\n",
    "dependency_categorical(df_train[\"FamilySize\"], df_train[label_name], sort_index=True)"
   ]
  },
  {
   "cell_type": "markdown",
   "metadata": {},
   "source": [
    "Majority of the passengers are travelling solo. It seems like solo travellers have lower chance of survival. Though it possible, that there is no causal relationship between family size and survival, but family size only correlates with other features that cause this effect, like Age and Sex."
   ]
  },
  {
   "cell_type": "markdown",
   "metadata": {},
   "source": [
    "## Ticket"
   ]
  },
  {
   "cell_type": "markdown",
   "metadata": {},
   "source": [
    "After some reading it turned out that multiple pessengers can travel with the same ticket number. It means that they bought the ticket together. I calculate how many passengers belong to one ticket number as a new column:"
   ]
  },
  {
   "cell_type": "code",
   "execution_count": 45,
   "metadata": {},
   "outputs": [],
   "source": [
    "df_pessenger_per_ticket = (\n",
    "    df_train\n",
    "    .groupby(\"Ticket\")\n",
    "    .agg({\"Count\": \"count\"})\n",
    "    .reset_index()\n",
    "    .rename({\"Count\": \"PassengerPerTicket\"}, axis=1)\n",
    ")\n",
    "df_train = df_train.merge(df_pessenger_per_ticket, on=\"Ticket\", how=\"left\")"
   ]
  },
  {
   "cell_type": "code",
   "execution_count": 47,
   "metadata": {},
   "outputs": [
    {
     "name": "stdout",
     "output_type": "stream",
     "text": [
      "                   Count Survival_ratio\n",
      "                                       \n",
      "PassengerPerTicket                     \n",
      "1                    547       0.297989\n",
      "2                    188       0.574468\n",
      "3                     63       0.698413\n",
      "4                     44       0.500000\n",
      "5                     10       0.000000\n",
      "6                     18       0.000000\n",
      "7                     21       0.238095\n"
     ]
    }
   ],
   "source": [
    "dependency_numerical_small(df_train, \"PassengerPerTicket\")"
   ]
  },
  {
   "cell_type": "markdown",
   "metadata": {},
   "source": [
    "Passenger per ticket should correlate to the family size, assuming families buy their tickets together:"
   ]
  },
  {
   "cell_type": "code",
   "execution_count": 48,
   "metadata": {
    "scrolled": false
   },
   "outputs": [
    {
     "data": {
      "image/png": "[encoded data removed]",
      "text/plain": [
       "<Figure size 432x288 with 1 Axes>"
      ]
     },
     "metadata": {
      "needs_background": "light"
     },
     "output_type": "display_data"
    },
    {
     "name": "stdout",
     "output_type": "stream",
     "text": [
      "           PassengerPerTicket                \n",
      "                         Mean       Std Count\n",
      "FamilySize                                   \n",
      "0                    1.281192  0.896240   537\n",
      "1                    1.745342  0.644976   161\n",
      "2                    2.147059  0.916267   102\n",
      "3                    2.931034  0.961065    29\n",
      "4                    3.533333  0.990430    15\n",
      "5                    5.272727  0.935125    22\n",
      "6                    5.500000  2.022600    12\n",
      "7                    6.000000  0.000000     6\n",
      "10                   7.000000  0.000000     7\n",
      "\n",
      "Correlation coefficient: 0.7484868255384143 p-value: 9.235712550062326e-161\n"
     ]
    }
   ],
   "source": [
    "# Regplot\n",
    "sns.regplot(df_train[\"FamilySize\"], df_train[\"PassengerPerTicket\"])\n",
    "plt.show()\n",
    "\n",
    "# Groupby perssenger per ticket, aggregate family size\n",
    "print(df_train.groupby(\"FamilySize\").agg({\"PassengerPerTicket\": {\"Mean\": \"mean\", \"Std\": \"std\", \"Count\": \"count\"}}))\n",
    "\n",
    "# Correlation coefficient\n",
    "print(\"\")\n",
    "print(\"Correlation coefficient: {} p-value: {}\".format(\n",
    "    *pearsonr(df_train[\"FamilySize\"], df_train[\"PassengerPerTicket\"])\n",
    "))"
   ]
  },
  {
   "cell_type": "markdown",
   "metadata": {},
   "source": [
    "There is a strong correlation between family size and passenger per ticket."
   ]
  },
  {
   "cell_type": "markdown",
   "metadata": {},
   "source": [
    "## Fare"
   ]
  },
  {
   "cell_type": "markdown",
   "metadata": {},
   "source": [
    "After some reading it turned out that the fare is calculated per ticket number, not per person, so we will have to normalize with the number of tickets.\n",
    "\n",
    "Calculate perssenger number per ticket:"
   ]
  },
  {
   "cell_type": "code",
   "execution_count": 54,
   "metadata": {},
   "outputs": [],
   "source": [
    "df_train[\"FarePerPerson\"] = df_train[\"Fare\"] / df_train[\"PassengerPerTicket\"]"
   ]
  },
  {
   "cell_type": "code",
   "execution_count": 55,
   "metadata": {},
   "outputs": [
    {
     "data": {
      "image/png": "[encoded data removed]",
      "text/plain": [
       "<Figure size 432x288 with 1 Axes>"
      ]
     },
     "metadata": {
      "needs_background": "light"
     },
     "output_type": "display_data"
    },
    {
     "name": "stdout",
     "output_type": "stream",
     "text": [
      "Describe FarePerPerson\n",
      "count    891.000000\n",
      "mean      17.788989\n",
      "std       21.218157\n",
      "min        0.000000\n",
      "10%        7.050000\n",
      "20%        7.733300\n",
      "30%        7.854200\n",
      "40%        8.050000\n",
      "50%        8.850000\n",
      "60%       11.725000\n",
      "70%       14.500000\n",
      "80%       26.550000\n",
      "90%       39.400000\n",
      "max      221.779200\n",
      "Name: FarePerPerson, dtype: float64\n",
      "\n",
      "Two sample Kolmogorov–Smirnov test for FarePerPerson\n",
      "D value: 0.31310516728980925 p value: 2.6645352591003757e-15\n"
     ]
    }
   ],
   "source": [
    "dependency_numerical(df_train, \"FarePerPerson\", label_name)"
   ]
  },
  {
   "cell_type": "code",
   "execution_count": 56,
   "metadata": {},
   "outputs": [
    {
     "name": "stdout",
     "output_type": "stream",
     "text": [
      "Survived                  0         1  Count\n",
      "FareBinnedExplore                           \n",
      "(-0.001, 7.733]    0.783333  0.216667    180\n",
      "(7.733, 8.05]      0.743119  0.256881    218\n",
      "(8.05, 11.725]     0.659420  0.340580    138\n",
      "(11.725, 26.55]    0.513228  0.486772    189\n",
      "(26.55, 221.779]   0.349398  0.650602    166\n",
      "\n",
      "Chi2 value: 95.63361363838052 p value: 8.355915208716143e-20\n"
     ]
    }
   ],
   "source": [
    "df_train[\"FareBinnedExplore\"] = pd.qcut(df_train[\"FarePerPerson\"], 5)\n",
    "dependency_categorical(df_train[\"FareBinnedExplore\"], df_train[label_name], binned=True)"
   ]
  }
 ],
 "metadata": {
  "kernelspec": {
   "display_name": "Python 3",
   "language": "python",
   "name": "python3"
  },
  "language_info": {
   "codemirror_mode": {
    "name": "ipython",
    "version": 3
   },
   "file_extension": ".py",
   "mimetype": "text/x-python",
   "name": "python",
   "nbconvert_exporter": "python",
   "pygments_lexer": "ipython3",
   "version": "3.7.3"
  }
 },
 "nbformat": 4,
 "nbformat_minor": 2
}
